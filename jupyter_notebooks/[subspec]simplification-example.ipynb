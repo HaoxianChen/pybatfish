{
 "cells": [
  {
   "cell_type": "code",
   "execution_count": 1,
   "metadata": {
    "ExecuteTime": {
     "end_time": "2025-02-14T00:47:50.745882Z",
     "start_time": "2025-02-14T00:47:48.978027Z"
    }
   },
   "outputs": [],
   "source": [
    "from z3 import *"
   ]
  },
  {
   "cell_type": "markdown",
   "metadata": {},
   "source": [
    "Here we simplify the problem from configuration to the bare minimum,\n",
    "let a be the symbolic input, can fall into one of two ranges.\n",
    "\n",
    "And c be one of the fields in the configuration file."
   ]
  },
  {
   "cell_type": "code",
   "execution_count": 8,
   "metadata": {
    "ExecuteTime": {
     "end_time": "2025-02-14T00:57:05.459023Z",
     "start_time": "2025-02-14T00:57:05.453111Z"
    }
   },
   "outputs": [],
   "source": [
    "# Declare variables\n",
    "a = Int('a')\n",
    "c = Int('c')"
   ]
  },
  {
   "cell_type": "code",
   "execution_count": 12,
   "metadata": {
    "ExecuteTime": {
     "end_time": "2025-02-14T01:00:42.592465Z",
     "start_time": "2025-02-14T01:00:42.583748Z"
    }
   },
   "outputs": [],
   "source": [
    "# Simplified route policy encoding: a nested if-then-else statements, only if no matches then it returns false.\n",
    "# Note that the conditions here are one-to-one cosreponding to the input constraints.\n",
    "route_policy = If(And(c <= a, a <= 13), False,\n",
    "                # If(And(c <= a, a <= 10), False,\n",
    "                If(And(5 <= a, a <= 7), False,\n",
    "                    True))\n",
    "\n",
    "\n",
    "# Verification problem, for all `a' that satisfy the input constraints, the route policy always return false. \n",
    "\n",
    "input_constraints = Or(And(11 <= a, a <= 13), And(5 <= a, a <= 7))\n",
    "\n",
    "formula1 = ForAll([a], \n",
    "                  Implies(input_constraints,\n",
    "                          route_policy == False)\n",
    "                )"
   ]
  },
  {
   "cell_type": "code",
   "execution_count": 13,
   "metadata": {
    "ExecuteTime": {
     "end_time": "2025-02-14T01:00:43.725709Z",
     "start_time": "2025-02-14T01:00:43.721371Z"
    }
   },
   "outputs": [],
   "source": [
    "# This is the expected subspec on c, given formula 1 above\n",
    "formula2 =  c <= 11"
   ]
  },
  {
   "cell_type": "code",
   "execution_count": 14,
   "metadata": {
    "ExecuteTime": {
     "end_time": "2025-02-14T01:00:43.890925Z",
     "start_time": "2025-02-14T01:00:43.871788Z"
    }
   },
   "outputs": [
    {
     "name": "stdout",
     "output_type": "stream",
     "text": [
      "The formulas are equivalent.\n"
     ]
    }
   ],
   "source": [
    "# Create a solver\n",
    "solver = Solver()\n",
    "solver.add(Not(formula1 == formula2))\n",
    "\n",
    "# Check satisfiability\n",
    "result = solver.check()\n",
    "\n",
    "# Print the result: if 'unsat', the formulas are equivalent, otherwise not\n",
    "if result == unsat:\n",
    "    print(\"The formulas are equivalent.\")\n",
    "else:\n",
    "    model = solver.model()\n",
    "    print(\"The formulas are not equivalent.\", model)"
   ]
  },
  {
   "cell_type": "markdown",
   "metadata": {},
   "source": [
    "**Question**:\n",
    "\n",
    "Given that they are equivalent, how can we automatically derive formula2 from formula1?"
   ]
  }
 ],
 "metadata": {
  "kernelspec": {
   "display_name": "myvenv",
   "language": "python",
   "name": "venv"
  },
  "language_info": {
   "codemirror_mode": {
    "name": "ipython",
    "version": 3
   },
   "file_extension": ".py",
   "mimetype": "text/x-python",
   "name": "python",
   "nbconvert_exporter": "python",
   "pygments_lexer": "ipython3",
   "version": "3.13.1"
  },
  "toc": {
   "base_numbering": 1,
   "nav_menu": {},
   "number_sections": true,
   "sideBar": true,
   "skip_h1_title": false,
   "title_cell": "Table of Contents",
   "title_sidebar": "Contents",
   "toc_cell": false,
   "toc_position": {},
   "toc_section_display": true,
   "toc_window_display": false
  }
 },
 "nbformat": 4,
 "nbformat_minor": 2
}
