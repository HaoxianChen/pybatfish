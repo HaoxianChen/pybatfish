{
 "cells": [
  {
   "cell_type": "code",
   "execution_count": 10,
   "metadata": {
    "ExecuteTime": {
     "end_time": "2025-02-19T00:11:24.170315Z",
     "start_time": "2025-02-19T00:11:24.157247Z"
    }
   },
   "outputs": [],
   "source": [
    "from z3 import *"
   ]
  },
  {
   "cell_type": "markdown",
   "metadata": {},
   "source": [
    "Here we simplify the problem from configuration to the bare minimum,\n",
    "let a be the symbolic input, can fall into one of two ranges.\n",
    "\n",
    "And c be one of the fields in the configuration file."
   ]
  },
  {
   "cell_type": "code",
   "execution_count": 11,
   "metadata": {
    "ExecuteTime": {
     "end_time": "2025-02-19T00:11:24.586114Z",
     "start_time": "2025-02-19T00:11:24.576247Z"
    }
   },
   "outputs": [],
   "source": [
    "# Declare variables\n",
    "\n",
    "# Here a represents a symbolic input.\n",
    "a = Int('a')\n",
    "\n",
    "# Here c represents a field in the configuration to be explained.\n",
    "c = Int('c')"
   ]
  },
  {
   "cell_type": "code",
   "execution_count": 15,
   "metadata": {
    "ExecuteTime": {
     "end_time": "2025-02-19T00:15:01.717539Z",
     "start_time": "2025-02-19T00:15:01.707741Z"
    }
   },
   "outputs": [],
   "source": [
    "# Simplified route policy encoding: a nested if-then-else statements, only if no matches then it returns false.\n",
    "# Note that the conditions here are one-to-one cosreponding to the input constraints.\n",
    "route_policy = If(And(c <= a, a <= 13), False,\n",
    "                If(And(5 <= a, a <= 7), False,\n",
    "                    True))\n",
    "\n",
    "\n",
    "# Verification problem, for all `a' that satisfy the input constraints, the route policy always return false. \n",
    "\n",
    "input_constraints = Or(And(11 <= a, a <= 13), And(5 <= a, a <= 7))\n",
    "\n",
    "formula1 = ForAll([a], \n",
    "                  Implies(input_constraints,\n",
    "                          route_policy == False)\n",
    "                )"
   ]
  },
  {
   "cell_type": "code",
   "execution_count": 16,
   "metadata": {
    "ExecuteTime": {
     "end_time": "2025-02-19T00:15:03.587431Z",
     "start_time": "2025-02-19T00:15:03.582804Z"
    }
   },
   "outputs": [],
   "source": [
    "# This is the expected subspec on c, given formula 1 above\n",
    "formula2 =  c <= 11"
   ]
  },
  {
   "cell_type": "code",
   "execution_count": 17,
   "metadata": {
    "ExecuteTime": {
     "end_time": "2025-02-19T00:15:03.847172Z",
     "start_time": "2025-02-19T00:15:03.840185Z"
    }
   },
   "outputs": [],
   "source": [
    "\n",
    "formula1 = ForAll([a,c], \n",
    "                  Implies(input_constraints,\n",
    "                          route_policy == False)\n",
    "                )\n",
    "\n",
    "formula2 =  ForAll([a,c],c <= 11)"
   ]
  },
  {
   "cell_type": "code",
   "execution_count": 18,
   "metadata": {
    "ExecuteTime": {
     "end_time": "2025-02-19T00:15:04.575988Z",
     "start_time": "2025-02-19T00:15:04.559638Z"
    }
   },
   "outputs": [
    {
     "name": "stdout",
     "output_type": "stream",
     "text": [
      "The formulas are equivalent.\n"
     ]
    }
   ],
   "source": [
    "# Create a solver\n",
    "solver = Solver()\n",
    "solver.add(Not(formula1 == formula2))\n",
    "\n",
    "# Check satisfiability\n",
    "result = solver.check()\n",
    "\n",
    "# Print the result: if 'unsat', the formulas are equivalent, otherwise not\n",
    "if result == unsat:\n",
    "    print(\"The formulas are equivalent.\")\n",
    "else:\n",
    "    model = solver.model()\n",
    "    print(\"The formulas are not equivalent.\", model)"
   ]
  },
  {
   "cell_type": "markdown",
   "metadata": {},
   "source": [
    "**Question**:\n",
    "\n",
    "Given that they are equivalent, how can we automatically derive formula2 from formula1?"
   ]
  },
  {
   "cell_type": "markdown",
   "metadata": {},
   "source": [
    "**Note**:\n",
    "If the IP range of the input constraint has overlap, \n",
    "like 9<=a<=13 or 10<=a<=15, then the above two formula no longer equivalent.\n",
    "In this case, we need to rewrite the input IP prefix ranges into disjoint\n",
    "ranges."
   ]
  },
  {
   "cell_type": "markdown",
   "metadata": {},
   "source": [
    "# Case 2: Subspec on irrelavant parts of the configuration"
   ]
  },
  {
   "cell_type": "code",
   "execution_count": 6,
   "metadata": {
    "ExecuteTime": {
     "end_time": "2025-02-18T03:33:39.737692Z",
     "start_time": "2025-02-18T03:33:39.727340Z"
    }
   },
   "outputs": [],
   "source": [
    "path1 = If(And(11 <= a, a <= 13), False,\n",
    "                If(And(5 <= a, a <= 7), False,\n",
    "                    True))\n",
    "\n",
    "# Here we ask the subspec for the parameter c here.\n",
    "path2 = If(And(c <= a, a <= 23), False,\n",
    "                If(And(25 <= a, a <= 27), False,\n",
    "                    True))\n",
    "\n",
    "# Here path2 will never be executed, because path1 always return False given input_constraints.\n",
    "policy2 = If(path1 == False, False, path2)\n",
    "\n",
    "formula3 = ForAll([a], Implies(input_constraints, policy2 == False))\n",
    "\n",
    "# So the subspec on c is empty, or simply True\n",
    "subspec = True"
   ]
  },
  {
   "cell_type": "code",
   "execution_count": 7,
   "metadata": {
    "ExecuteTime": {
     "end_time": "2025-02-18T03:34:02.982765Z",
     "start_time": "2025-02-18T03:34:02.968097Z"
    }
   },
   "outputs": [
    {
     "name": "stdout",
     "output_type": "stream",
     "text": [
      "The formulas are equivalent.\n"
     ]
    }
   ],
   "source": [
    "# Create a solver\n",
    "solver = Solver()\n",
    "solver.add(Not(formula3 == subspec))\n",
    "\n",
    "# Check satisfiability\n",
    "result = solver.check()\n",
    "\n",
    "# Print the result: if 'unsat', the formulas are equivalent, otherwise not\n",
    "if result == unsat:\n",
    "    print(\"The formulas are equivalent.\")\n",
    "else:\n",
    "    model = solver.model()\n",
    "    print(\"The formulas are not equivalent.\", model)"
   ]
  },
  {
   "cell_type": "markdown",
   "metadata": {},
   "source": [
    "# Case 3: Subspec given an incorrect configuration?"
   ]
  },
  {
   "cell_type": "code",
   "execution_count": 9,
   "metadata": {
    "ExecuteTime": {
     "end_time": "2025-02-18T03:38:49.466387Z",
     "start_time": "2025-02-18T03:38:49.455727Z"
    }
   },
   "outputs": [],
   "source": [
    "# Here the route policy is incorrect, it may return True on some case (10 < a <= 13)\n",
    "# route_policy = If(And(c <= a, a <= 13), False,\n",
    "route_policy = If(And(c <= a, a <= 10), False,\n",
    "                If(And(5 <= a, a <= 7), False,\n",
    "                    True))\n",
    "\n",
    "\n",
    "# Verification problem, for all `a' that satisfy the input constraints, the route policy always return false. \n",
    "\n",
    "input_constraints = Or(And(11 <= a, a <= 13), And(5 <= a, a <= 7))\n",
    "\n",
    "formula1 = ForAll([a], \n",
    "                  Implies(input_constraints,\n",
    "                          route_policy == False)\n",
    "                )"
   ]
  },
  {
   "cell_type": "markdown",
   "metadata": {},
   "source": [
    "What should the subspec for c should be?\n",
    "\n",
    "One viable option might be to just refuse genearting subspec when the verification tasks fails.\n",
    "As given an incorrect configuration there may not exist a sensisble subspec for any given field.\n",
    "\n",
    "Except the faulty place, its subspec will tell you how to fix the error."
   ]
  },
  {
   "cell_type": "markdown",
   "metadata": {},
   "source": [
    "# Next steps \n",
    "\n",
    "1. Scale to large scale, network-wide verification tasks.\n",
    "   The current study is focused on one individual configuration file. \n",
    "   Show that this approach can scale to large scale tasks.\n",
    "   \n",
    "2. Vary explanation \"hole\" granularity. Now we focus on explaining one individual field,\n",
    "   how about the subspec for the whole route policies? Or the whole router.\n",
    "   \n",
    "   Here we may need to introduce some higher level abstraction like an uninterpreted function,\n",
    "   to represent these larger \"holes\"."
   ]
  },
  {
   "cell_type": "code",
   "execution_count": null,
   "metadata": {},
   "outputs": [],
   "source": []
  }
 ],
 "metadata": {
  "kernelspec": {
   "display_name": "myvenv",
   "language": "python",
   "name": "venv"
  },
  "language_info": {
   "codemirror_mode": {
    "name": "ipython",
    "version": 3
   },
   "file_extension": ".py",
   "mimetype": "text/x-python",
   "name": "python",
   "nbconvert_exporter": "python",
   "pygments_lexer": "ipython3",
   "version": "3.13.1"
  },
  "toc": {
   "base_numbering": 1,
   "nav_menu": {},
   "number_sections": true,
   "sideBar": true,
   "skip_h1_title": false,
   "title_cell": "Table of Contents",
   "title_sidebar": "Contents",
   "toc_cell": false,
   "toc_position": {},
   "toc_section_display": true,
   "toc_window_display": false
  }
 },
 "nbformat": 4,
 "nbformat_minor": 2
}
